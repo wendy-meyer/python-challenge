{
 "cells": [
  {
   "cell_type": "code",
   "execution_count": 1,
   "metadata": {},
   "outputs": [],
   "source": [
    "import os  \n",
    "import csv\n",
    "\n",
    "def Average(diff_list): \n",
    "    return sum(diff_list) / len(diff_list)\n",
    "\n",
    "budget_data = os.path.join(\"Resources\",\"budget_data.csv\")\n",
    "    "
   ]
  },
  {
   "cell_type": "code",
   "execution_count": 2,
   "metadata": {},
   "outputs": [],
   "source": [
    "net_total = 0\n",
    "total_months=0"
   ]
  },
  {
   "cell_type": "code",
   "execution_count": 3,
   "metadata": {},
   "outputs": [
    {
     "name": "stdout",
     "output_type": "stream",
     "text": [
      "Financial Analysis\n",
      "----------------------------\n",
      "Total Months: 86\n",
      "Total: $38382578\n",
      "Average  Change: $-2315.12\n",
      "Greatest Increase in Profits: Feb-2012 ($1926159)\n",
      "Greatest Decrease in Profits: Sep-2013 ($-2196167)\n"
     ]
    }
   ],
   "source": [
    "with open(budget_data, 'r') as csvfile:\n",
    "    csvreader = csv.reader(csvfile, delimiter=',')\n",
    "    header = next(csvreader)\n",
    "    first_row = next(csvreader)\n",
    "    \n",
    "    \n",
    "    total_months=1 #count the top value\n",
    "    net_total = int(first_row[1])\n",
    "    prev_amount = int(first_row[1])\n",
    "    min_value =[\"\",9999999999999999999]\n",
    "    max_value =[\"\",0]\n",
    "    diff_list = []\n",
    "    \n",
    "    for row in csvreader:\n",
    "        total_months += 1\n",
    "            \n",
    "        net_total += int(row[1])\n",
    "        \n",
    "        diff = int(row[1])-prev_amount\n",
    "        prev_amount = int(row[1])\n",
    "        diff_list.append(diff)\n",
    "\n",
    "\n",
    "        if diff > max_value[1]:\n",
    "            max_value[0]=row[0]\n",
    "            max_value[1] = diff\n",
    "        if diff < min_value[1]:\n",
    "            min_value[0]=row[0]\n",
    "            min_value[1]=diff\n",
    "            \n",
    "    \n",
    "    print(\"Financial Analysis\")\n",
    "    print(\"----------------------------\")\n",
    "    print(f\"Total Months: {total_months}\")\n",
    "    print(f\"Total: ${net_total}\")\n",
    "    print(f\"Average  Change: ${round(Average(diff_list),2)}\")\n",
    "    print(f\"Greatest Increase in Profits: {max_value[0]} (${max_value[1]})\")\n",
    "    print(f\"Greatest Decrease in Profits: {min_value[0]} (${min_value[1]})\")\n"
   ]
  },
  {
   "cell_type": "code",
   "execution_count": 5,
   "metadata": {},
   "outputs": [],
   "source": [
    "pybank_output = budget_data[0:-4]\n",
    "export_bank_data = f\"{pybank_output}_results.txt\"\n",
    "\n",
    "editor = open(export_bank_data, mode = \"w\")\n",
    "\n",
    "editor.write(\"Financial Analysis\\n\")\n",
    "editor.write(\"-------------------------\\n\")\n",
    "editor.write(f\"Total Months: {total_months}\\n\")\n",
    "editor.write(f\"Total: ${net_total}\\n\")\n",
    "editor.write(f\"Average  Change: ${round(Average(diff_list),2)}\\n\")\n",
    "editor.write(f\"Greatest Increase in Profits: {max_value[0]} (${max_value[1]})\\n\")\n",
    "editor.write(f\"Greatest Decrease in Profits: {min_value[0]} (${min_value[1]})\\n\")\n",
    "\n",
    "editor.close()"
   ]
  },
  {
   "cell_type": "code",
   "execution_count": null,
   "metadata": {},
   "outputs": [],
   "source": []
  }
 ],
 "metadata": {
  "kernelspec": {
   "display_name": "Python 3",
   "language": "python",
   "name": "python3"
  },
  "language_info": {
   "codemirror_mode": {
    "name": "ipython",
    "version": 3
   },
   "file_extension": ".py",
   "mimetype": "text/x-python",
   "name": "python",
   "nbconvert_exporter": "python",
   "pygments_lexer": "ipython3",
   "version": "3.7.4"
  }
 },
 "nbformat": 4,
 "nbformat_minor": 2
}
